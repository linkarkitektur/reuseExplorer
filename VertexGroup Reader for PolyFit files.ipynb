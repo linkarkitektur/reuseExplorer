{
 "cells": [
  {
   "cell_type": "code",
   "execution_count": 1,
   "metadata": {},
   "outputs": [],
   "source": [
    "import os\n",
    "import numpy as np\n",
    "import linkml_py\n",
    "from linkml.visualize import polyscope\n"
   ]
  },
  {
   "cell_type": "code",
   "execution_count": null,
   "metadata": {},
   "outputs": [],
   "source": [
    "[ file for file in os.listdir(\"/home/mephisto/repos/PolyFit/data/PolyFit_data/\") if file.endswith(\".vg\")]"
   ]
  },
  {
   "cell_type": "code",
   "execution_count": 20,
   "metadata": {},
   "outputs": [],
   "source": [
    "def read_vg(path:str):\n",
    "    points  = np.array([])\n",
    "    colors  = np.array([])\n",
    "    normals = np.array([])\n",
    "    planes = []\n",
    "    indecies = []\n",
    "\n",
    "\n",
    "\n",
    "    with open(path, \"r\") as f:\n",
    "        num_points = int(f.readline().split(\":\")[1].strip())\n",
    "        points = np.fromstring(f.readline(),dtype=np.float32, sep=\" \").reshape([-1,3])\n",
    "\n",
    "        num_colors = int(f.readline().split(\":\")[1].strip())\n",
    "        colors = np.fromstring(f.readline(),dtype=np.float32, sep=\" \").reshape([-1,3])\n",
    "\n",
    "        num_normals = int(f.readline().split(\":\")[1].strip())\n",
    "        normals = np.fromstring(f.readline(),dtype=np.float32, sep=\" \").reshape([-1,3])\n",
    "\n",
    "\n",
    "        num_groups = int(f.readline().split(\" \")[1])\n",
    "\n",
    "        for idx in range(num_groups):\n",
    "            group_type = int(f.readline().split(\":\")[1].strip())\n",
    "            num_group_parameters = int(f.readline().split(\":\")[1].strip())\n",
    "            group_parameters = np.fromstring(f.readline().split(\":\")[1].strip(),dtype=np.float32, sep=\" \")\n",
    "            group_label = str(f.readline().split(\":\")[1].strip())\n",
    "            group_color = np.fromstring(f.readline().split(\":\")[1].strip(),dtype=np.float32, sep=\" \")\n",
    "\n",
    "            group_num_point = int(f.readline().split(\":\")[1].strip())\n",
    "            group_points = np.fromstring(f.readline(),dtype=np.int32, sep=\" \")\n",
    "            num_children = int(f.readline().split(\":\")[1].strip())\n",
    "\n",
    "            if (group_type == 0): # Only try to add planes\n",
    "                planes.append(linkml_py.Plane(group_parameters[0], group_parameters[1], group_parameters[2], group_parameters[3]))\n",
    "                indecies.append(group_points)\n",
    "\n",
    "    results = linkml_py.PlaneFittingResults.from_numpy(planes, indecies)\n",
    "\n",
    "    \n",
    "    return [points, colors, normals, results]\n",
    "\n",
    "points, colors, normals, results = read_vg(\"/home/mephisto/repos/PolyFit/data/PolyFit_data/Fig4f.vg\")"
   ]
  },
  {
   "cell_type": "code",
   "execution_count": 21,
   "metadata": {},
   "outputs": [],
   "source": [
    "cloud = linkml_py.PointCloud.from_numpy(points, normals)"
   ]
  },
  {
   "cell_type": "code",
   "execution_count": 13,
   "metadata": {},
   "outputs": [],
   "source": [
    "planes = []\n",
    "for idx in range(len(results.indecies)):\n",
    "    planes.append(linkml_py.fit_plane_thorugh_points(cloud, results.indecies[idx]))\n",
    "results = linkml_py.PlaneFittingResults.from_numpy(planes, results.indecies)"
   ]
  },
  {
   "cell_type": "code",
   "execution_count": 3,
   "metadata": {},
   "outputs": [],
   "source": [
    "plane_colors = np.zeros(points.shape)\n",
    "\n",
    "for idx in range(len(results.indecies)):\n",
    "    plane_colors[results.indecies[idx]] = np.random.random(3)\n"
   ]
  },
  {
   "cell_type": "code",
   "execution_count": null,
   "metadata": {},
   "outputs": [],
   "source": [
    "with polyscope() as ps:\n",
    "    ps.set_up_dir(\"z_up\")\n",
    "    ps.set_ground_plane_mode(\"shadow_only\")\n",
    "    cloud = ps.register_point_cloud(\"Cloud\", points)\n",
    "    cloud.add_color_quantity(\"RGB\", colors)\n",
    "    cloud.add_color_quantity(\"Normal\",normlas*0.5+0.5 )\n",
    "    cloud.add_color_quantity(\"Planes\",plane_colors )"
   ]
  },
  {
   "cell_type": "code",
   "execution_count": null,
   "metadata": {},
   "outputs": [],
   "source": []
  }
 ],
 "metadata": {
  "kernelspec": {
   "display_name": "Python310_ML",
   "language": "python",
   "name": "python3"
  },
  "language_info": {
   "codemirror_mode": {
    "name": "ipython",
    "version": 3
   },
   "file_extension": ".py",
   "mimetype": "text/x-python",
   "name": "python",
   "nbconvert_exporter": "python",
   "pygments_lexer": "ipython3",
   "version": "3.10.12"
  }
 },
 "nbformat": 4,
 "nbformat_minor": 2
}
