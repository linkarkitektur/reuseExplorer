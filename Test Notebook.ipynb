{
 "cells": [
  {
   "cell_type": "code",
   "execution_count": null,
   "metadata": {},
   "outputs": [],
   "source": [
    "import os\n",
    "import sys\n",
    "import importlib\n",
    "\n",
    "from linkml.visualize import polyscope\n",
    "\n",
    "sys.path.insert(\n",
    "    0, '/home/mephisto/repos/linkml_cpp/build/')\n",
    "\n",
    "try:\n",
    "    import linkml_py\n",
    "    import numpy as np\n",
    "except Exception as e:\n",
    "    print(e)\n",
    "    exit()"
   ]
  },
  {
   "cell_type": "code",
   "execution_count": null,
   "metadata": {},
   "outputs": [],
   "source": [
    "points = np.load(\"/home/mephisto/repos/LinkML/Data/points.npy\")\n",
    "normals = np.load(\"/home/mephisto/repos/LinkML/Data/normals.npy\")\n",
    "\n",
    "\n",
    "# points = points[::5000,:]\n",
    "# normals = normals[::5000, :]\n",
    "\n",
    "\n",
    "planes = np.load(\"/home/mephisto/repos/LinkML/Data/planes2.npy\")\n",
    "planes = [ linkml_py.Plane(p[0],p[1],p[2],p[3]) for p in planes.reshape((-1,4))]\n",
    "# points = []\n",
    "\n",
    "# for p,d,fs in os.walk(\"/home/mephisto/repos/LinkML/Notebooks/Plane Fitting/points2\"):\n",
    "#     fs.sort()\n",
    "\n",
    "#     for f in fs:\n",
    "#         points.append(np.load(os.path.join(p,f)))\n",
    "# for pts, p in zip(points, planes):\n",
    "#     p._points = pts"
   ]
  },
  {
   "cell_type": "code",
   "execution_count": null,
   "metadata": {},
   "outputs": [],
   "source": [
    "print(points.shape, normals.shape)"
   ]
  },
  {
   "cell_type": "code",
   "execution_count": null,
   "metadata": {},
   "outputs": [],
   "source": [
    "# points =  np.concatenate((points[::5000,:],  np.atleast_2d(np.min(points, axis=0)),  np.atleast_2d(np.max(points, axis=0))))\n",
    "# normals = np.concatenate((normals[::5000,:], np.atleast_2d(np.min(normals, axis=0)), np.atleast_2d(np.max(normals, axis=0))))\n",
    "\n",
    "# print(points.shape, normals.shape)"
   ]
  },
  {
   "cell_type": "code",
   "execution_count": null,
   "metadata": {},
   "outputs": [],
   "source": [
    "cloud = linkml_py.PointCloud.from_numpy(points, normals)\n",
    "print(cloud)"
   ]
  },
  {
   "cell_type": "code",
   "execution_count": null,
   "metadata": {},
   "outputs": [],
   "source": [
    "# result = linkml_py.fit_planes(\n",
    "#     cloud, linkml_py.PlaneFittingParams(\n",
    "#         cosalpha=0.96592583,\n",
    "#         normal_distance_threshhold=1,  # normal_distance_threshhold=13.\n",
    "#         distance_threshhold=0.15,\n",
    "#         plane_size_threshhold=500))\n",
    "# print(result)"
   ]
  },
  {
   "cell_type": "code",
   "execution_count": null,
   "metadata": {},
   "outputs": [],
   "source": [
    "result = linkml_py.create_cell_complex(cloud, planes[40:41])\n",
    "print(len(result))"
   ]
  },
  {
   "cell_type": "code",
   "execution_count": null,
   "metadata": {},
   "outputs": [],
   "source": [
    "from open3d.geometry import PointCloud\n",
    "from open3d.cuda.pybind.utility import Vector3dVector"
   ]
  },
  {
   "cell_type": "code",
   "execution_count": null,
   "metadata": {},
   "outputs": [],
   "source": [
    "points.shape"
   ]
  },
  {
   "cell_type": "code",
   "execution_count": null,
   "metadata": {},
   "outputs": [],
   "source": [
    "box = PointCloud(Vector3dVector(points)).get_axis_aligned_bounding_box()"
   ]
  },
  {
   "cell_type": "code",
   "execution_count": null,
   "metadata": {},
   "outputs": [],
   "source": [
    "box.min_bound"
   ]
  },
  {
   "cell_type": "code",
   "execution_count": null,
   "metadata": {},
   "outputs": [],
   "source": [
    "with polyscope() as ps:\n",
    "\n",
    "    ps.set_ground_plane_mode(\"shadow_only\")\n",
    "\n",
    "    ps.register_point_cloud(\"Cloud\", points, radius=0.001)\n",
    "    \n",
    "    # for idx, cell in enumerate(result):\n",
    "    #     vertices = np.array(cell.vertecies)\n",
    "    #     faces = np.array(cell.faces)\n",
    "    #     ps.register_surface_mesh(f\"Cell {idx:03.0f}\", vertices,faces , transparency=0.8)"
   ]
  },
  {
   "cell_type": "code",
   "execution_count": null,
   "metadata": {},
   "outputs": [],
   "source": []
  }
 ],
 "metadata": {
  "kernelspec": {
   "display_name": "base",
   "language": "python",
   "name": "python3"
  },
  "language_info": {
   "codemirror_mode": {
    "name": "ipython",
    "version": 3
   },
   "file_extension": ".py",
   "mimetype": "text/x-python",
   "name": "python",
   "nbconvert_exporter": "python",
   "pygments_lexer": "ipython3",
   "version": "3.10.12"
  }
 },
 "nbformat": 4,
 "nbformat_minor": 2
}
