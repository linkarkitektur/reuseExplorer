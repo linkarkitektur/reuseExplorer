{
 "cells": [
  {
   "cell_type": "code",
   "execution_count": 1,
   "metadata": {},
   "outputs": [],
   "source": [
    "import os\n",
    "import numpy as np\n",
    "import linkml_py\n",
    "from linkml.processing.plane.numpy.functions import fit_plane, fit_planes\n",
    "from linkml.visualize import polyscope"
   ]
  },
  {
   "cell_type": "code",
   "execution_count": 2,
   "metadata": {},
   "outputs": [],
   "source": [
    "points = np.load(\"/home/mephisto/server_data/Amtssygehus/points.npy\")\n",
    "normals = np.load(\"/home/mephisto/server_data/Amtssygehus/normals.npy\")\n",
    "colors = np.load(\"/home/mephisto/server_data/Amtssygehus/colors.npy\")"
   ]
  },
  {
   "cell_type": "code",
   "execution_count": 3,
   "metadata": {},
   "outputs": [],
   "source": [
    "planes = np.load(\"/home/mephisto/server_data/Amtssygehus/planes.npy\")\n",
    "planes = planes.reshape((-1, 4))\n",
    "planes = [linkml_py.Plane(plane[0], plane[1], plane[2], plane[3]) for plane in planes]"
   ]
  },
  {
   "cell_type": "code",
   "execution_count": 4,
   "metadata": {},
   "outputs": [],
   "source": [
    "points_pp = []\n",
    "indecies = []\n",
    "for path, folders, files in os.walk(\"/home/mephisto/server_data/Amtssygehus/planes/\"):\n",
    "\n",
    "    # Sorting\n",
    "    keys = [int(name.split(\".\")[0].split(\"-\")[1]) for name in files]\n",
    "    files = [x for _, x in sorted(zip(keys, files))]\n",
    "\n",
    "\n",
    "    for file in files:\n",
    "        if \"points\" in file:\n",
    "            points_pp.append(np.load(os.path.join(path, file)))\n",
    "        elif \"indecies\" in file:\n",
    "            indecies.append(np.load(os.path.join(path, file)))\n"
   ]
  },
  {
   "cell_type": "code",
   "execution_count": 5,
   "metadata": {},
   "outputs": [
    {
     "data": {
      "text/plain": [
       "Planes :203"
      ]
     },
     "execution_count": 5,
     "metadata": {},
     "output_type": "execute_result"
    }
   ],
   "source": [
    "plane_results = linkml_py.PlaneFittingResults.from_numpy(planes, indecies)\n",
    "plane_results"
   ]
  },
  {
   "cell_type": "code",
   "execution_count": 6,
   "metadata": {},
   "outputs": [],
   "source": [
    "points = points*0.1"
   ]
  },
  {
   "cell_type": "code",
   "execution_count": 8,
   "metadata": {},
   "outputs": [],
   "source": [
    "cloud = linkml_py.PointCloud.from_numpy(points, normals)"
   ]
  },
  {
   "cell_type": "code",
   "execution_count": 7,
   "metadata": {},
   "outputs": [],
   "source": [
    "params = linkml_py.Refinement_Parameters()"
   ]
  },
  {
   "cell_type": "code",
   "execution_count": 9,
   "metadata": {},
   "outputs": [
    {
     "name": "stdout",
     "output_type": "stream",
     "text": [
      "148\n"
     ]
    },
    {
     "data": {
      "text/plain": [
       "[Plane A(5.40554e-05) B(-0.000635126) C(1) D(-16.4968),\n",
       " Plane A(2.21168e-06) B(-4.30339e-05) C(1) D(-9.62706),\n",
       " Plane A(9.18041e-07) B(-6.20718e-05) C(1) D(-6.29311),\n",
       " Plane A(-3.17594e-06) B(-2.19511e-05) C(1) D(-2.95925),\n",
       " Plane A(0) B(0) C(1) D(-6.561),\n",
       " Plane A(0) B(0) C(1) D(-3.227),\n",
       " Plane A(-0.000949588) B(-0.005803) C(-0.999983) D(0.010541),\n",
       " Plane A(0) B(0) C(1) D(-9.895),\n",
       " Plane A(0.0204836) B(0.999396) C(-0.0280793) D(6.44947),\n",
       " Plane A(3.52619e-05) B(0.155654) C(0.987812) D(-17.5871),\n",
       " Plane A(0.0281981) B(-0.469408) C(0.882531) D(-6.14208),\n",
       " Plane A(0.0150655) B(-0.963099) C(-0.268725) D(4.43716),\n",
       " Plane A(-0.0324499) B(-0.999438) C(-0.00847873) D(1.09589),\n",
       " Plane A(-9.94558e-16) B(1) C(-1.77636e-14) D(-1.15562),\n",
       " Plane A(-0.111256) B(-0.969794) C(-0.217076) D(4.42336),\n",
       " Plane A(0.0375359) B(-0.179347) C(-0.98307) D(6.47099),\n",
       " Plane A(-0.550779) B(0.831636) C(0.0708757) D(-1.70103),\n",
       " Plane A(-0.626788) B(-0.775116) C(-0.0795714) D(1.19437),\n",
       " Plane A(0.0332463) B(-0.670059) C(0.741563) D(-7.17099),\n",
       " Plane A(-0.0425221) B(-0.626797) C(-0.778022) D(8.19442),\n",
       " Plane A(1) B(7.21684e-05) C(-2.92103e-06) D(-3.89553),\n",
       " Plane A(1) B(3.09816e-14) C(9.36198e-15) D(3.31965),\n",
       " Plane A(1) B(3.02819e-14) C(9.66853e-15) D(-3.79566),\n",
       " Plane A(1) B(3.04458e-14) C(9.75962e-15) D(3.21965),\n",
       " Plane A(0.0213982) B(-0.624719) C(-0.780556) D(8.36044),\n",
       " Plane A(1) B(0.00014502) C(-4.52013e-06) D(10.2474),\n",
       " Plane A(1) B(3.50838e-14) C(8.79964e-15) D(10.3471),\n",
       " Plane A(0.999999) B(-0.000816757) C(0.00074097) D(-10.7752),\n",
       " Plane A(1) B(4.11875e-14) C(1.04284e-14) D(-10.8699),\n",
       " Plane A(-0.891812) B(-0.383529) C(0.239953) D(0.1551),\n",
       " Plane A(0.999999) B(-0.00133031) C(-0.000596695) D(0.699847),\n",
       " Plane A(-0.0099887) B(0.999949) C(0.00166938) D(6.76688),\n",
       " Plane A(-0.892153) B(-0.441335) C(-0.0963685) D(0.441969),\n",
       " Plane A(-0.40161) B(-0.91398) C(0.0578781) D(0.112815),\n",
       " Plane A(1) B(-7.59729e-14) C(1.17088e-12) D(-10.5702),\n",
       " Plane A(0.000101594) B(-0.00037418) C(1) D(-15.83),\n",
       " Plane A(1) B(3.0909e-15) C(2.56977e-14) D(-7.38523),\n",
       " Plane A(1) B(2.55419e-15) C(2.6785e-14) D(-7.28523),\n",
       " Plane A(0.999992) B(0.00393234) C(0.00101365) D(4.1954),\n",
       " Plane A(-0.376131) B(-0.924398) C(0.0633593) D(-0.286896),\n",
       " Plane A(1) B(2.38396e-15) C(1.41567e-12) D(-11.0402),\n",
       " Plane A(-0.382745) B(-0.923825) C(0.00738118) D(-0.0376326),\n",
       " Plane A(1) B(5.75669e-15) C(3.79058e-05) D(-4.40839),\n",
       " Plane A(1) B(5.82577e-15) C(3.61057e-05) D(0.789194),\n",
       " Plane A(-0.412222) B(0.910983) C(0.0135006) D(-0.339832),\n",
       " Plane A(1) B(1.41327e-15) C(3.9793e-05) D(-9.85744),\n",
       " Plane A(1) B(-5.1113e-15) C(3.49132e-05) D(4.12027),\n",
       " Plane A(1) B(2.77852e-15) C(3.39636e-05) D(6.86214),\n",
       " Plane A(0.0650185) B(0.712073) C(-0.699088) D(6.91691),\n",
       " Plane A(0.156434) B(2.9976e-14) C(0.987688) D(-18.0639),\n",
       " Plane A(-1.28893e-05) B(0.0296272) C(0.999561) D(-14.0486),\n",
       " Plane A(-7.09064e-17) B(6.6502e-16) C(1) D(-13.867),\n",
       " Plane A(1) B(2.53766e-05) C(6.02992e-05) D(9.58984),\n",
       " Plane A(-5.36669e-15) B(1.14835e-13) C(1) D(-16.417),\n",
       " Plane A(-1.81557e-14) B(1) C(-5.63577e-14) D(5.14472),\n",
       " Plane A(1) B(-1.5258e-13) C(-4.31872e-12) D(-2.28046),\n",
       " Plane A(0.00951758) B(0.999955) C(0.000198205) D(-6.2887),\n",
       " Plane A(-0.00210305) B(0.0725873) C(0.99736) D(-16.1968),\n",
       " Plane A(0.000253646) B(0.161684) C(0.986843) D(-16.5596),\n",
       " Plane A(-1.88518e-15) B(1) C(-4.44362e-10) D(-6.80334),\n",
       " Plane A(-0.00183602) B(0.242614) C(0.970121) D(-16.755),\n",
       " Plane A(0.999982) B(-0.00591444) C(-0.00125652) D(9.34638),\n",
       " Plane A(0.994778) B(-0.101961) C(-0.00458041) D(-9.32295),\n",
       " Plane A(0.999911) B(-0.00254641) C(0.0130878) D(8.83814),\n",
       " Plane A(0) B(0) C(1) D(-16.6188),\n",
       " Plane A(0.99775) B(0.0670342) C(0.000834222) D(-3.13977),\n",
       " Plane A(4.52602e-19) B(-0.707485) C(0.706728) D(-6.7761),\n",
       " Plane A(0.995284) B(0.0969935) C(0.00150761) D(-0.595659),\n",
       " Plane A(0.995246) B(0.0973841) C(0.00163912) D(10.9389),\n",
       " Plane A(0.995246) B(0.0973841) C(0.00163912) D(4.18139),\n",
       " Plane A(0.995246) B(0.0973841) C(0.00163912) D(12.7303),\n",
       " Plane A(0.995246) B(0.0973841) C(0.00163912) D(1.7928),\n",
       " Plane A(0.995615) B(0.0935378) C(0.000979366) D(-2.39927),\n",
       " Plane A(0.99828) B(0.0585933) C(-0.00206064) D(-9.25448),\n",
       " Plane A(0.99828) B(0.0585933) C(-0.00206064) D(-5.06171),\n",
       " Plane A(0.99828) B(-0.0585933) C(0.00206064) D(-9.21416),\n",
       " Plane A(0.99828) B(0.0585933) C(-0.00206064) D(-7.45758),\n",
       " Plane A(-1.11819e-08) B(0.939058) C(0.34376) D(-0.123583),\n",
       " Plane A(0.999636) B(-0.0269807) C(-0.000193344) D(-12.0175),\n",
       " Plane A(0.999545) B(-0.0299522) C(0.0036535) D(8.303),\n",
       " Plane A(1) B(0) C(0) D(-9.24023),\n",
       " Plane A(0.999719) B(0.0237207) C(-2.31048e-05) D(7.43628),\n",
       " Plane A(0.995179) B(-0.098053) C(0.00223871) D(2.5554),\n",
       " Plane A(0.995179) B(-0.098053) C(0.00223871) D(-2.22145),\n",
       " Plane A(0.996432) B(0.0843407) C(-0.0031784) D(-8.17934),\n",
       " Plane A(0.996432) B(0.0843407) C(-0.0031784) D(5.57142),\n",
       " Plane A(0.996432) B(0.0843407) C(-0.0031784) D(1.98426),\n",
       " Plane A(0.996432) B(0.0843407) C(-0.0031784) D(-10.5708),\n",
       " Plane A(0.996432) B(0.0843407) C(-0.0031784) D(-3.39647),\n",
       " Plane A(0.994902) B(-0.100822) C(0.00225559) D(0.152069),\n",
       " Plane A(0.994902) B(-0.100822) C(0.00225559) D(11.2114),\n",
       " Plane A(2.07976e-16) B(1) C(-3.10862e-15) D(2.04472),\n",
       " Plane A(0.999567) B(-0.0292742) C(0.00304269) D(-10.2637),\n",
       " Plane A(0.9998) B(0.0199797) C(-0.000856337) D(-1.25653),\n",
       " Plane A(0.9998) B(0.0199797) C(-0.000856337) D(7.74167),\n",
       " Plane A(0.9998) B(0.0199797) C(-0.000856337) D(-0.0567717),\n",
       " Plane A(0.9998) B(0.0199797) C(-0.000856337) D(3.54251),\n",
       " Plane A(0.9998) B(0.0199797) C(-0.000856337) D(-5.45569),\n",
       " Plane A(0.9998) B(0.0199797) C(-0.000856337) D(-11.4545),\n",
       " Plane A(0.993164) B(-0.116716) C(0.00180741) D(9.3385),\n",
       " Plane A(0.993164) B(-0.116716) C(0.00180741) D(-11.6683),\n",
       " Plane A(4.69474e-16) B(1) C(-5.55112e-16) D(2.14472),\n",
       " Plane A(0.995456) B(-0.0951685) C(-0.00329263) D(9.02834),\n",
       " Plane A(0.995456) B(-0.0951685) C(-0.00329263) D(0.0692399),\n",
       " Plane A(0.995456) B(-0.0951685) C(-0.00329263) D(-7.69531),\n",
       " Plane A(0) B(0) C(1) D(-12.932),\n",
       " Plane A(1) B(-2.68118e-13) C(-6.22993e-12) D(-8.61523),\n",
       " Plane A(0) B(0) C(1) D(-10.865),\n",
       " Plane A(-6.74442e-12) B(0) C(1) D(-10.865),\n",
       " Plane A(0) B(0) C(1) D(-4.197),\n",
       " Plane A(0) B(0) C(1) D(-7.531),\n",
       " Plane A(-6.74387e-12) B(1.11022e-16) C(1) D(-7.531),\n",
       " Plane A(0) B(0) C(1) D(-4.197),\n",
       " Plane A(2.20713e-15) B(-4.33681e-19) C(1) D(-12.932),\n",
       " Plane A(0) B(0) C(1) D(-10.865),\n",
       " Plane A(-6.74553e-12) B(0) C(1) D(-4.197),\n",
       " Plane A(-6.74663e-12) B(-1.11022e-16) C(1) D(-12.932),\n",
       " Plane A(0) B(0) C(1) D(-12.932),\n",
       " Plane A(0) B(0) C(1) D(-7.531),\n",
       " Plane A(0) B(0) C(1) D(-10.865),\n",
       " Plane A(0) B(0) C(1) D(-7.531),\n",
       " Plane A(1.37945e-15) B(-1.0842e-19) C(1) D(-4.197),\n",
       " Plane A(0.995189) B(-0.0979172) C(-0.00341579) D(-5.88311),\n",
       " Plane A(0.995189) B(-0.0979172) C(-0.00341579) D(-1.70332),\n",
       " Plane A(0.995189) B(-0.0979172) C(-0.00341579) D(-3.49466),\n",
       " Plane A(0.995189) B(-0.0979172) C(-0.00341579) D(1.87936),\n",
       " Plane A(0.999966) B(0.00725913) C(0.00379986) D(-6.50135),\n",
       " Plane A(0.999965) B(0.00739104) C(0.00389233) D(-7.10195),\n",
       " Plane A(0.998914) B(-0.0461294) C(-0.00660727) D(3.41934),\n",
       " Plane A(0.999965) B(0.00739104) C(0.00389233) D(2.49772),\n",
       " Plane A(0.999828) B(-0.0183133) C(0.00278715) D(-6.01662),\n",
       " Plane A(-8.20732e-14) B(-1.57764e-13) C(1) D(-16.4488),\n",
       " Plane A(0.99986) B(-0.0160584) C(-0.00464595) D(-10.5856),\n",
       " Plane A(0.99986) B(-0.0160584) C(-0.00464595) D(12.2112),\n",
       " Plane A(0.999846) B(-0.0168843) C(-0.00481796) D(6.8197),\n",
       " Plane A(0.99635) B(-0.0853531) C(-0.0011338) D(6.27524),\n",
       " Plane A(0) B(0) C(1) D(-2.063),\n",
       " Plane A(-2.37995e-12) B(0) C(1) D(-2.063),\n",
       " Plane A(0.996195) B(-0.0871459) C(-0.00117159) D(-12.7433),\n",
       " Plane A(0.999934) B(0.0103938) C(0.00480977) D(-2.30628),\n",
       " Plane A(0.999968) B(0.00730221) C(0.00339543) D(-0.492536),\n",
       " Plane A(0) B(0) C(1) D(-1.064),\n",
       " Plane A(4.74121e-06) B(0.939069) C(0.343729) D(-0.122957),\n",
       " Plane A(7.98599e-18) B(-0.980621) C(0.195914) D(3.61567),\n",
       " Plane A(-7.2856e-18) B(-0.980621) C(0.195914) D(3.61567),\n",
       " Plane A(1) B(-2.1867e-14) C(8.45343e-15) D(-3.28523),\n",
       " Plane A(1.15197e-18) B(-0.707485) C(0.706728) D(-6.7761),\n",
       " Plane A(0.00830196) B(-0.0223878) C(0.999715) D(-16.8798)]"
      ]
     },
     "execution_count": 9,
     "metadata": {},
     "output_type": "execute_result"
    }
   ],
   "source": [
    "res = linkml_py.refine_planes(cloud, plane_results, params)\n",
    "print(len(res))\n",
    "res"
   ]
  },
  {
   "cell_type": "code",
   "execution_count": null,
   "metadata": {},
   "outputs": [],
   "source": [
    "with polyscope() as ps:\n",
    "    ps.set_up_dir(\"z_up\")\n",
    "    ps.set_ground_plane_mode(\"shadow_only\")\n",
    "    cloud = ps.register_point_cloud(\"Cloud\", points=points, radius=0.002)\n",
    "    cloud.add_color_quantity(\"RGB\", colors/255, enabled=True)"
   ]
  },
  {
   "cell_type": "code",
   "execution_count": null,
   "metadata": {},
   "outputs": [],
   "source": [
    "r = fit_planes(points, normals, distance_threshhold=2)\n",
    "r"
   ]
  },
  {
   "cell_type": "code",
   "execution_count": null,
   "metadata": {},
   "outputs": [],
   "source": [
    "# np.save(\"/home/mephisto/server_data/Amtssygehus/planes\",np.concatenate(r))\n",
    "\n",
    "# for idx, plane in enumerate(r):\n",
    "#     np.save(f\"/home/mephisto/server_data/Amtssygehus/planes/indecies-{idx}\", plane.indecies)\n",
    "#     np.save(f\"/home/mephisto/server_data/Amtssygehus/planes/points-{idx}\", plane.points)\n"
   ]
  },
  {
   "cell_type": "code",
   "execution_count": null,
   "metadata": {},
   "outputs": [],
   "source": [
    "from linkml.processing.mapping import remap"
   ]
  },
  {
   "cell_type": "code",
   "execution_count": null,
   "metadata": {},
   "outputs": [],
   "source": [
    "with polyscope() as ps:\n",
    "    ps.set_up_dir(\"z_up\")\n",
    "    ps.set_ground_plane_mode(\"shadow_only\")\n",
    "    \n",
    "    c = ps.register_point_cloud(\"Cloud\", points=points, radius=0.002)\n",
    "    c.add_color_quantity(\"RGB\", colors/255, enabled=True)\n",
    "    c.add_color_quantity(\"Normals\", remap(normals), enabled=True)\n",
    "\n",
    "\n",
    "    # for idx, plane in enumerate(r):\n",
    "    #     ps.register_point_cloud(f\"Plane {idx}\", points=plane.points, radius=0.0025)\n"
   ]
  },
  {
   "cell_type": "code",
   "execution_count": null,
   "metadata": {},
   "outputs": [],
   "source": [
    "import colorsys"
   ]
  },
  {
   "cell_type": "code",
   "execution_count": null,
   "metadata": {},
   "outputs": [],
   "source": [
    "[colorsys.hsv_to_rgb(1,1,val) for val in np.random.random(10)][0]"
   ]
  },
  {
   "cell_type": "code",
   "execution_count": null,
   "metadata": {},
   "outputs": [],
   "source": [
    "def vg_formatter(path, points, normals, colors, planes):\n",
    "\n",
    "    with open(path, \"w\") as f:\n",
    "        f.write(f\"num_points: {len(points)}\\n\")\n",
    "        f.writelines([f\"{pt[0]:0.6f} {pt[1]:0.6f} {pt[2]:0.6f}\\n\" for pt in points    ])\n",
    "        f.write(f\"\\n\")\n",
    "\n",
    "        f.write(f\"num_colors: {len(colors)}\\n\")\n",
    "        f.writelines([f\"{pt[0]:0.6f} {pt[1]:0.6f} {pt[2]:0.6f}\\n\" for pt in colors/255])\n",
    "        f.write(f\"\\n\")\n",
    "\n",
    "        f.write(f\"num_normals: {len(normals)}\\n\")\n",
    "        f.writelines([f\"{ n[0]:0.6f} { n[1]:0.6f} { n[1]:0.6f}\\n\" for n  in normals   ])\n",
    "        f.write(f\"\\n\")\n",
    "        f.write(f\"num_groups: {len(planes)}\\n\")\n",
    "\n",
    "        for idx, (plane, color) in enumerate(zip(planes, [colorsys.hsv_to_rgb(val,0.9,1) for val in np.random.random(len(planes))])):\n",
    "            f.write(\"group_type: 0\\n\")\n",
    "            f.write(\"num_group_parameters: 4\\n\")\n",
    "            f.write(f\"group_parameters: {plane[0]:0.6f} {plane[1]:0.6f} {plane[2]:0.6f} {plane[3]:0.6f}\\n\")\n",
    "            f.write(f\"group_label: plane-{idx}\\n\")\n",
    "            f.write(f\"group_color: {color[0]:0.3f} {color[1]:0.3f} {color[2]:0.3f}\\n\")\n",
    "            f.write(f\"group_num_points: {len(plane.indecies)}\\n\")\n",
    "            f.write(\" \".join([f\"{val:d}\" for val in plane.indecies]))\n",
    "            f.write(\"\\n\")\n",
    "            f.write(\"num_children: 0\\n\")"
   ]
  },
  {
   "cell_type": "code",
   "execution_count": null,
   "metadata": {},
   "outputs": [],
   "source": [
    "vg_formatter(\"/home/mephisto/server_data/Amtssygehus/Point Cloud-50.vg\", points, normals, colors, r[:50])"
   ]
  },
  {
   "cell_type": "code",
   "execution_count": null,
   "metadata": {},
   "outputs": [],
   "source": [
    "cloud = linkml_py.PointCloud.from_numpy(points, normals)"
   ]
  },
  {
   "cell_type": "code",
   "execution_count": null,
   "metadata": {},
   "outputs": [],
   "source": [
    "rs = linkml_py.fit_plane(cloud, linkml_py.PlaneFittingParams(\n",
    "    cosalpha=np.cos(25),\n",
    "    normal_distance_threshhold=0.1,\n",
    "    distance_threshhold=2,\n",
    "    plane_size_threshhold=50\n",
    "))\n",
    "rs"
   ]
  },
  {
   "cell_type": "code",
   "execution_count": null,
   "metadata": {},
   "outputs": [],
   "source": [
    "with polyscope() as ps:\n",
    "    ps.set_up_dir(\"z_up\")\n",
    "    ps.set_ground_plane_mode(\"shadow_only\")\n",
    "    \n",
    "    c = ps.register_point_cloud(\"Cloud\", points=points, radius=0.002)\n",
    "    c.add_color_quantity(\"RGB\", colors/255, enabled=True)\n",
    "\n",
    "    ps.register_point_cloud(\"Plane\", points=points[rs.indecies], radius=0.0025)\n",
    "\n",
    "    c = ps.register_point_cloud(\"Point\", points=points[15401:15402], radius=0.02)\n",
    "\n",
    "\n",
    "    \n"
   ]
  },
  {
   "cell_type": "code",
   "execution_count": null,
   "metadata": {},
   "outputs": [],
   "source": [
    "r = linkml_py.fit_planes(cloud, linkml_py.PlaneFittingParams(\n",
    "    cosalpha=np.cos(25),\n",
    "    normal_distance_threshhold=0.1,\n",
    "    distance_threshhold=0.8,\n",
    "    plane_size_threshhold=500\n",
    "))\n",
    "r"
   ]
  },
  {
   "cell_type": "code",
   "execution_count": null,
   "metadata": {},
   "outputs": [],
   "source": [
    "linkml_py.PlaneFittingParams()"
   ]
  },
  {
   "cell_type": "code",
   "execution_count": null,
   "metadata": {},
   "outputs": [],
   "source": []
  }
 ],
 "metadata": {
  "kernelspec": {
   "display_name": "Python310_ML",
   "language": "python",
   "name": "python3"
  },
  "language_info": {
   "codemirror_mode": {
    "name": "ipython",
    "version": 3
   },
   "file_extension": ".py",
   "mimetype": "text/x-python",
   "name": "python",
   "nbconvert_exporter": "python",
   "pygments_lexer": "ipython3",
   "version": "3.10.12"
  }
 },
 "nbformat": 4,
 "nbformat_minor": 2
}
